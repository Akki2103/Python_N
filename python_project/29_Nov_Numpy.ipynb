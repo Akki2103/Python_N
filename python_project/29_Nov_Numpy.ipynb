{
 "cells": [
  {
   "cell_type": "code",
   "execution_count": 1,
   "id": "2ed5e8a5",
   "metadata": {
    "ExecuteTime": {
     "end_time": "2022-11-29T04:49:54.904732Z",
     "start_time": "2022-11-29T04:49:37.187101Z"
    }
   },
   "outputs": [
    {
     "name": "stdout",
     "output_type": "stream",
     "text": [
      "Requirement already satisfied: numpy in d:\\anaconda\\lib\\site-packages (1.21.5)\n"
     ]
    }
   ],
   "source": [
    "!pip install numpy"
   ]
  },
  {
   "cell_type": "code",
   "execution_count": 3,
   "id": "8c4dda84",
   "metadata": {
    "ExecuteTime": {
     "end_time": "2022-11-29T04:50:31.979267Z",
     "start_time": "2022-11-29T04:50:31.791169Z"
    }
   },
   "outputs": [],
   "source": [
    "import numpy as np"
   ]
  },
  {
   "cell_type": "code",
   "execution_count": 4,
   "id": "ad4ad670",
   "metadata": {
    "ExecuteTime": {
     "end_time": "2022-11-29T04:51:03.329325Z",
     "start_time": "2022-11-29T04:51:03.311259Z"
    }
   },
   "outputs": [],
   "source": [
    "#Array creation "
   ]
  },
  {
   "cell_type": "code",
   "execution_count": 6,
   "id": "cc5dea83",
   "metadata": {
    "ExecuteTime": {
     "end_time": "2022-11-29T05:44:27.867010Z",
     "start_time": "2022-11-29T05:44:27.848913Z"
    }
   },
   "outputs": [
    {
     "data": {
      "text/plain": [
       "numpy.ndarray"
      ]
     },
     "execution_count": 6,
     "metadata": {},
     "output_type": "execute_result"
    }
   ],
   "source": [
    "a = np.array(10)\n",
    "type(a)"
   ]
  },
  {
   "cell_type": "code",
   "execution_count": 7,
   "id": "f3acc43c",
   "metadata": {
    "ExecuteTime": {
     "end_time": "2022-11-29T05:44:44.456388Z",
     "start_time": "2022-11-29T05:44:44.447200Z"
    }
   },
   "outputs": [],
   "source": [
    "#Zero dimensional array"
   ]
  },
  {
   "cell_type": "code",
   "execution_count": 8,
   "id": "30c58d7e",
   "metadata": {
    "ExecuteTime": {
     "end_time": "2022-11-29T05:45:01.728010Z",
     "start_time": "2022-11-29T05:45:01.712385Z"
    }
   },
   "outputs": [
    {
     "data": {
      "text/plain": [
       "0"
      ]
     },
     "execution_count": 8,
     "metadata": {},
     "output_type": "execute_result"
    }
   ],
   "source": [
    "z = np.array(10)\n",
    "z.ndim"
   ]
  },
  {
   "cell_type": "code",
   "execution_count": 9,
   "id": "da921b97",
   "metadata": {
    "ExecuteTime": {
     "end_time": "2022-11-29T05:45:38.464497Z",
     "start_time": "2022-11-29T05:45:38.455998Z"
    }
   },
   "outputs": [],
   "source": [
    "#One dimensional array "
   ]
  },
  {
   "cell_type": "code",
   "execution_count": 12,
   "id": "725a1642",
   "metadata": {
    "ExecuteTime": {
     "end_time": "2022-11-29T05:46:20.270015Z",
     "start_time": "2022-11-29T05:46:20.253504Z"
    }
   },
   "outputs": [
    {
     "data": {
      "text/plain": [
       "1"
      ]
     },
     "execution_count": 12,
     "metadata": {},
     "output_type": "execute_result"
    }
   ],
   "source": [
    "o = np.array([10,12,12,15])\n",
    "o.ndim"
   ]
  },
  {
   "cell_type": "code",
   "execution_count": 13,
   "id": "ef0549c7",
   "metadata": {
    "ExecuteTime": {
     "end_time": "2022-11-29T05:46:36.025471Z",
     "start_time": "2022-11-29T05:46:36.006796Z"
    }
   },
   "outputs": [],
   "source": [
    "#two dinemsional array"
   ]
  },
  {
   "cell_type": "code",
   "execution_count": 15,
   "id": "655d9c21",
   "metadata": {
    "ExecuteTime": {
     "end_time": "2022-11-29T05:47:09.835962Z",
     "start_time": "2022-11-29T05:47:09.824399Z"
    }
   },
   "outputs": [
    {
     "data": {
      "text/plain": [
       "2"
      ]
     },
     "execution_count": 15,
     "metadata": {},
     "output_type": "execute_result"
    }
   ],
   "source": [
    "t = np.array([[10,10,12,14,15]])\n",
    "t.ndim"
   ]
  },
  {
   "cell_type": "code",
   "execution_count": 16,
   "id": "16610f7c",
   "metadata": {
    "ExecuteTime": {
     "end_time": "2022-11-29T05:47:30.482538Z",
     "start_time": "2022-11-29T05:47:30.477004Z"
    }
   },
   "outputs": [],
   "source": [
    "#Three dimensional array "
   ]
  },
  {
   "cell_type": "code",
   "execution_count": 17,
   "id": "7ebc4899",
   "metadata": {
    "ExecuteTime": {
     "end_time": "2022-11-29T05:47:52.576276Z",
     "start_time": "2022-11-29T05:47:52.571287Z"
    }
   },
   "outputs": [],
   "source": [
    "th = np.array([[[10,12,14,15,16]]])"
   ]
  },
  {
   "cell_type": "code",
   "execution_count": 18,
   "id": "fd46491d",
   "metadata": {
    "ExecuteTime": {
     "end_time": "2022-11-29T05:47:59.798608Z",
     "start_time": "2022-11-29T05:47:59.788067Z"
    }
   },
   "outputs": [
    {
     "data": {
      "text/plain": [
       "3"
      ]
     },
     "execution_count": 18,
     "metadata": {},
     "output_type": "execute_result"
    }
   ],
   "source": [
    "th.ndim"
   ]
  },
  {
   "cell_type": "code",
   "execution_count": 19,
   "id": "41bbde2e",
   "metadata": {
    "ExecuteTime": {
     "end_time": "2022-11-29T05:48:58.899276Z",
     "start_time": "2022-11-29T05:48:58.882708Z"
    }
   },
   "outputs": [],
   "source": [
    "#Change the data type of the array elements."
   ]
  },
  {
   "cell_type": "code",
   "execution_count": 20,
   "id": "5252f48f",
   "metadata": {
    "ExecuteTime": {
     "end_time": "2022-11-29T05:49:26.518342Z",
     "start_time": "2022-11-29T05:49:26.509271Z"
    }
   },
   "outputs": [],
   "source": [
    "a = np.array([10,25,52,54])"
   ]
  },
  {
   "cell_type": "code",
   "execution_count": 21,
   "id": "99cd44cc",
   "metadata": {
    "ExecuteTime": {
     "end_time": "2022-11-29T05:49:37.978631Z",
     "start_time": "2022-11-29T05:49:37.879377Z"
    }
   },
   "outputs": [
    {
     "data": {
      "text/plain": [
       "dtype('int32')"
      ]
     },
     "execution_count": 21,
     "metadata": {},
     "output_type": "execute_result"
    }
   ],
   "source": [
    "a.dtype"
   ]
  },
  {
   "cell_type": "code",
   "execution_count": 22,
   "id": "ecc9786b",
   "metadata": {
    "ExecuteTime": {
     "end_time": "2022-11-29T05:51:09.554581Z",
     "start_time": "2022-11-29T05:51:09.065560Z"
    }
   },
   "outputs": [
    {
     "name": "stdout",
     "output_type": "stream",
     "text": [
      "float64\n",
      "Hello\n"
     ]
    },
    {
     "data": {
      "text/plain": [
       "array([10., 15., 52., 54.])"
      ]
     },
     "execution_count": 22,
     "metadata": {},
     "output_type": "execute_result"
    }
   ],
   "source": [
    "a = np.array([10,15,52,54], dtype = 'float')\n",
    "print(a.dtype)\n",
    "print('Hello')\n",
    "a"
   ]
  },
  {
   "cell_type": "markdown",
   "id": "80e5f9e7",
   "metadata": {},
   "source": [
    "# Other way of creating of array\n",
    "\n",
    "* 1. arange\n",
    "* 2. linspace\n",
    "* 3. zeros\n",
    "* 4. ones\n",
    "* 5. random"
   ]
  },
  {
   "cell_type": "code",
   "execution_count": 24,
   "id": "8e149ce7",
   "metadata": {
    "ExecuteTime": {
     "end_time": "2022-11-29T05:54:58.608729Z",
     "start_time": "2022-11-29T05:54:58.579991Z"
    }
   },
   "outputs": [
    {
     "data": {
      "text/plain": [
       "array([ 1,  3,  5,  7,  9, 11, 13, 15, 17, 19])"
      ]
     },
     "execution_count": 24,
     "metadata": {},
     "output_type": "execute_result"
    }
   ],
   "source": [
    "a = np.arange(1,21,2)\n",
    "a"
   ]
  },
  {
   "cell_type": "code",
   "execution_count": 25,
   "id": "74e21744",
   "metadata": {
    "ExecuteTime": {
     "end_time": "2022-11-29T05:55:27.612804Z",
     "start_time": "2022-11-29T05:55:27.587233Z"
    }
   },
   "outputs": [
    {
     "data": {
      "text/plain": [
       "(array([1.        , 1.28571429, 1.57142857, 1.85714286, 2.14285714,\n",
       "        2.42857143, 2.71428571, 3.        , 3.28571429, 3.57142857,\n",
       "        3.85714286, 4.14285714, 4.42857143, 4.71428571, 5.        ]),\n",
       " 0.2857142857142857)"
      ]
     },
     "execution_count": 25,
     "metadata": {},
     "output_type": "execute_result"
    }
   ],
   "source": [
    "b = np.linspace(1,5,15, retstep=True)\n",
    "b"
   ]
  },
  {
   "cell_type": "code",
   "execution_count": 26,
   "id": "40712597",
   "metadata": {
    "ExecuteTime": {
     "end_time": "2022-11-29T05:55:48.901769Z",
     "start_time": "2022-11-29T05:55:48.884757Z"
    }
   },
   "outputs": [
    {
     "data": {
      "text/plain": [
       "array([[0., 0.],\n",
       "       [0., 0.]])"
      ]
     },
     "execution_count": 26,
     "metadata": {},
     "output_type": "execute_result"
    }
   ],
   "source": [
    "z = np.zeros([2,2])\n",
    "z"
   ]
  },
  {
   "cell_type": "code",
   "execution_count": 27,
   "id": "b4993c54",
   "metadata": {
    "ExecuteTime": {
     "end_time": "2022-11-29T05:56:25.170466Z",
     "start_time": "2022-11-29T05:56:25.154906Z"
    }
   },
   "outputs": [],
   "source": [
    "o = np.ones([5,5])"
   ]
  },
  {
   "cell_type": "code",
   "execution_count": 28,
   "id": "c2e0f74d",
   "metadata": {
    "ExecuteTime": {
     "end_time": "2022-11-29T05:59:06.452568Z",
     "start_time": "2022-11-29T05:59:06.443977Z"
    }
   },
   "outputs": [
    {
     "data": {
      "text/plain": [
       "array([[1., 1., 1., 1., 1.],\n",
       "       [1., 1., 1., 1., 1.],\n",
       "       [1., 1., 1., 1., 1.],\n",
       "       [1., 1., 1., 1., 1.],\n",
       "       [1., 1., 1., 1., 1.]])"
      ]
     },
     "execution_count": 28,
     "metadata": {},
     "output_type": "execute_result"
    }
   ],
   "source": [
    "o"
   ]
  },
  {
   "cell_type": "code",
   "execution_count": 29,
   "id": "3067878a",
   "metadata": {
    "ExecuteTime": {
     "end_time": "2022-11-29T05:59:38.413619Z",
     "start_time": "2022-11-29T05:59:38.308444Z"
    }
   },
   "outputs": [
    {
     "data": {
      "text/plain": [
       "array([[0.85818221, 0.6755685 , 0.75505732, 0.49002638, 0.29832694],\n",
       "       [0.57249634, 0.31323703, 0.68053934, 0.74355423, 0.44982303],\n",
       "       [0.99350316, 0.05157776, 0.55533456, 0.59889874, 0.79753062],\n",
       "       [0.48870078, 0.83243866, 0.24817949, 0.71649917, 0.93159288],\n",
       "       [0.37056087, 0.75006746, 0.22045639, 0.41719153, 0.7235751 ]])"
      ]
     },
     "execution_count": 29,
     "metadata": {},
     "output_type": "execute_result"
    }
   ],
   "source": [
    "r = np.random.rand(5,5)\n",
    "r"
   ]
  },
  {
   "cell_type": "code",
   "execution_count": 30,
   "id": "39c4da9f",
   "metadata": {
    "ExecuteTime": {
     "end_time": "2022-11-29T06:00:17.674043Z",
     "start_time": "2022-11-29T06:00:17.636044Z"
    }
   },
   "outputs": [
    {
     "data": {
      "text/plain": [
       "array([4, 3, 0, 2, 2, 2, 2, 2, 4, 0])"
      ]
     },
     "execution_count": 30,
     "metadata": {},
     "output_type": "execute_result"
    }
   ],
   "source": [
    "r = np.random.randint(5, size = 10)\n",
    "r"
   ]
  },
  {
   "cell_type": "markdown",
   "id": "a2f7f323",
   "metadata": {},
   "source": [
    "# Slicing and indexing of arrays"
   ]
  },
  {
   "cell_type": "code",
   "execution_count": 31,
   "id": "6f07c16b",
   "metadata": {
    "ExecuteTime": {
     "end_time": "2022-11-29T06:01:11.161648Z",
     "start_time": "2022-11-29T06:01:11.156113Z"
    }
   },
   "outputs": [],
   "source": [
    "a = np.array([[1,2,3],[4,5,6]])"
   ]
  },
  {
   "cell_type": "code",
   "execution_count": 32,
   "id": "736ccb42",
   "metadata": {
    "ExecuteTime": {
     "end_time": "2022-11-29T06:02:16.392034Z",
     "start_time": "2022-11-29T06:02:16.384978Z"
    }
   },
   "outputs": [
    {
     "data": {
      "text/plain": [
       "array([[1, 2, 3],\n",
       "       [4, 5, 6]])"
      ]
     },
     "execution_count": 32,
     "metadata": {},
     "output_type": "execute_result"
    }
   ],
   "source": [
    "a"
   ]
  },
  {
   "cell_type": "code",
   "execution_count": 33,
   "id": "25fb35b9",
   "metadata": {
    "ExecuteTime": {
     "end_time": "2022-11-29T06:02:43.977551Z",
     "start_time": "2022-11-29T06:02:43.959418Z"
    }
   },
   "outputs": [
    {
     "data": {
      "text/plain": [
       "1"
      ]
     },
     "execution_count": 33,
     "metadata": {},
     "output_type": "execute_result"
    }
   ],
   "source": [
    "a[0,0]"
   ]
  },
  {
   "cell_type": "code",
   "execution_count": 34,
   "id": "7f9dd567",
   "metadata": {
    "ExecuteTime": {
     "end_time": "2022-11-29T06:02:49.521597Z",
     "start_time": "2022-11-29T06:02:49.512073Z"
    }
   },
   "outputs": [
    {
     "data": {
      "text/plain": [
       "6"
      ]
     },
     "execution_count": 34,
     "metadata": {},
     "output_type": "execute_result"
    }
   ],
   "source": [
    "a[1,2]"
   ]
  },
  {
   "cell_type": "code",
   "execution_count": 35,
   "id": "69b3403a",
   "metadata": {
    "ExecuteTime": {
     "end_time": "2022-11-29T06:02:55.285493Z",
     "start_time": "2022-11-29T06:02:55.269950Z"
    }
   },
   "outputs": [
    {
     "data": {
      "text/plain": [
       "array([[1, 2, 3],\n",
       "       [4, 5, 6]])"
      ]
     },
     "execution_count": 35,
     "metadata": {},
     "output_type": "execute_result"
    }
   ],
   "source": [
    "a"
   ]
  },
  {
   "cell_type": "code",
   "execution_count": 36,
   "id": "d616bb27",
   "metadata": {
    "ExecuteTime": {
     "end_time": "2022-11-29T06:04:11.076307Z",
     "start_time": "2022-11-29T06:04:11.061156Z"
    }
   },
   "outputs": [
    {
     "data": {
      "text/plain": [
       "array([2, 3])"
      ]
     },
     "execution_count": 36,
     "metadata": {},
     "output_type": "execute_result"
    }
   ],
   "source": [
    "a[0,1:]"
   ]
  },
  {
   "cell_type": "code",
   "execution_count": 37,
   "id": "6cb7ef4e",
   "metadata": {
    "ExecuteTime": {
     "end_time": "2022-11-29T06:04:30.874523Z",
     "start_time": "2022-11-29T06:04:30.853429Z"
    }
   },
   "outputs": [
    {
     "data": {
      "text/plain": [
       "array([[2, 3],\n",
       "       [5, 6]])"
      ]
     },
     "execution_count": 37,
     "metadata": {},
     "output_type": "execute_result"
    }
   ],
   "source": [
    "a[0:,1:]"
   ]
  },
  {
   "cell_type": "code",
   "execution_count": 38,
   "id": "cbb8b29b",
   "metadata": {
    "ExecuteTime": {
     "end_time": "2022-11-29T06:05:23.035753Z",
     "start_time": "2022-11-29T06:05:23.014195Z"
    }
   },
   "outputs": [
    {
     "data": {
      "text/plain": [
       "array([[1, 2, 3],\n",
       "       [4, 5, 6]])"
      ]
     },
     "execution_count": 38,
     "metadata": {},
     "output_type": "execute_result"
    }
   ],
   "source": [
    "a"
   ]
  },
  {
   "cell_type": "code",
   "execution_count": 39,
   "id": "755698c6",
   "metadata": {
    "ExecuteTime": {
     "end_time": "2022-11-29T06:06:06.338204Z",
     "start_time": "2022-11-29T06:06:05.970850Z"
    }
   },
   "outputs": [
    {
     "data": {
      "text/plain": [
       "array([1, 6])"
      ]
     },
     "execution_count": 39,
     "metadata": {},
     "output_type": "execute_result"
    }
   ],
   "source": [
    "#1 and 6\n",
    "a[[0,1],[0,2]]"
   ]
  },
  {
   "cell_type": "code",
   "execution_count": 40,
   "id": "d674c7a0",
   "metadata": {
    "ExecuteTime": {
     "end_time": "2022-11-29T06:08:22.146926Z",
     "start_time": "2022-11-29T06:08:22.135790Z"
    }
   },
   "outputs": [
    {
     "data": {
      "text/plain": [
       "array([3, 4])"
      ]
     },
     "execution_count": 40,
     "metadata": {},
     "output_type": "execute_result"
    }
   ],
   "source": [
    "#3 and 4\n",
    "a[[0,1],[2,0]]"
   ]
  },
  {
   "cell_type": "markdown",
   "id": "bbc8d2b4",
   "metadata": {},
   "source": [
    "# Reshaping the arrays"
   ]
  },
  {
   "cell_type": "code",
   "execution_count": 41,
   "id": "4d3cb8b9",
   "metadata": {
    "ExecuteTime": {
     "end_time": "2022-11-29T06:09:02.052671Z",
     "start_time": "2022-11-29T06:09:02.044983Z"
    }
   },
   "outputs": [],
   "source": [
    "a = np.random.rand(5,2)"
   ]
  },
  {
   "cell_type": "code",
   "execution_count": 42,
   "id": "3358f07d",
   "metadata": {
    "ExecuteTime": {
     "end_time": "2022-11-29T06:09:39.270660Z",
     "start_time": "2022-11-29T06:09:39.252927Z"
    }
   },
   "outputs": [
    {
     "data": {
      "text/plain": [
       "array([[0.82894845, 0.66099681],\n",
       "       [0.55707116, 0.63962358],\n",
       "       [0.83302893, 0.84043136],\n",
       "       [0.87252951, 0.0629071 ],\n",
       "       [0.50758061, 0.47387045]])"
      ]
     },
     "execution_count": 42,
     "metadata": {},
     "output_type": "execute_result"
    }
   ],
   "source": [
    "a"
   ]
  },
  {
   "cell_type": "code",
   "execution_count": 43,
   "id": "76493020",
   "metadata": {
    "ExecuteTime": {
     "end_time": "2022-11-29T06:09:51.643776Z",
     "start_time": "2022-11-29T06:09:51.630249Z"
    }
   },
   "outputs": [
    {
     "data": {
      "text/plain": [
       "array([[0.82894845, 0.66099681, 0.55707116, 0.63962358, 0.83302893],\n",
       "       [0.84043136, 0.87252951, 0.0629071 , 0.50758061, 0.47387045]])"
      ]
     },
     "execution_count": 43,
     "metadata": {},
     "output_type": "execute_result"
    }
   ],
   "source": [
    "a.reshape(2,5)"
   ]
  },
  {
   "cell_type": "code",
   "execution_count": 44,
   "id": "d91714c8",
   "metadata": {
    "ExecuteTime": {
     "end_time": "2022-11-29T06:11:03.697056Z",
     "start_time": "2022-11-29T06:11:03.688525Z"
    }
   },
   "outputs": [
    {
     "data": {
      "text/plain": [
       "array([[0.82894845],\n",
       "       [0.66099681],\n",
       "       [0.55707116],\n",
       "       [0.63962358],\n",
       "       [0.83302893],\n",
       "       [0.84043136],\n",
       "       [0.87252951],\n",
       "       [0.0629071 ],\n",
       "       [0.50758061],\n",
       "       [0.47387045]])"
      ]
     },
     "execution_count": 44,
     "metadata": {},
     "output_type": "execute_result"
    }
   ],
   "source": [
    "a.reshape(10,1)"
   ]
  },
  {
   "cell_type": "code",
   "execution_count": 45,
   "id": "54d02dd6",
   "metadata": {
    "ExecuteTime": {
     "end_time": "2022-11-29T06:12:07.488102Z",
     "start_time": "2022-11-29T06:12:07.474996Z"
    }
   },
   "outputs": [
    {
     "data": {
      "text/plain": [
       "array([[0.82894845, 0.66099681, 0.55707116, 0.63962358, 0.83302893,\n",
       "        0.84043136, 0.87252951, 0.0629071 , 0.50758061, 0.47387045]])"
      ]
     },
     "execution_count": 45,
     "metadata": {},
     "output_type": "execute_result"
    }
   ],
   "source": [
    "a.reshape(1,10)"
   ]
  },
  {
   "cell_type": "code",
   "execution_count": 46,
   "id": "ebd22e13",
   "metadata": {
    "ExecuteTime": {
     "end_time": "2022-11-29T06:12:22.387402Z",
     "start_time": "2022-11-29T06:12:22.367271Z"
    }
   },
   "outputs": [
    {
     "data": {
      "text/plain": [
       "array([[0.82894845, 0.66099681],\n",
       "       [0.55707116, 0.63962358],\n",
       "       [0.83302893, 0.84043136],\n",
       "       [0.87252951, 0.0629071 ],\n",
       "       [0.50758061, 0.47387045]])"
      ]
     },
     "execution_count": 46,
     "metadata": {},
     "output_type": "execute_result"
    }
   ],
   "source": [
    "a.reshape(5,-1)"
   ]
  },
  {
   "cell_type": "markdown",
   "id": "c29ccc8f",
   "metadata": {},
   "source": [
    "# Aggregate Functions\n",
    "\n",
    "* The Python numpy aggregate functions are sum, max, mean ,average , product ,meadian , standard deviation , variance ,percentile and corrcoef. "
   ]
  },
  {
   "cell_type": "code",
   "execution_count": 47,
   "id": "3f3afbc1",
   "metadata": {
    "ExecuteTime": {
     "end_time": "2022-11-29T06:15:36.800014Z",
     "start_time": "2022-11-29T06:15:36.782908Z"
    }
   },
   "outputs": [
    {
     "data": {
      "text/plain": [
       "0.06290709746547007"
      ]
     },
     "execution_count": 47,
     "metadata": {},
     "output_type": "execute_result"
    }
   ],
   "source": [
    "a.min()"
   ]
  },
  {
   "cell_type": "code",
   "execution_count": 48,
   "id": "755b630f",
   "metadata": {
    "ExecuteTime": {
     "end_time": "2022-11-29T06:15:48.350649Z",
     "start_time": "2022-11-29T06:15:47.964630Z"
    }
   },
   "outputs": [
    {
     "data": {
      "text/plain": [
       "0.23477213088604204"
      ]
     },
     "execution_count": 48,
     "metadata": {},
     "output_type": "execute_result"
    }
   ],
   "source": [
    "a.std()"
   ]
  },
  {
   "cell_type": "code",
   "execution_count": 49,
   "id": "751f0b2b",
   "metadata": {
    "ExecuteTime": {
     "end_time": "2022-11-29T06:16:06.302491Z",
     "start_time": "2022-11-29T06:16:06.292456Z"
    }
   },
   "outputs": [
    {
     "data": {
      "text/plain": [
       "0.05511795344077286"
      ]
     },
     "execution_count": 49,
     "metadata": {},
     "output_type": "execute_result"
    }
   ],
   "source": [
    "a.var()"
   ]
  },
  {
   "cell_type": "markdown",
   "id": "991614f9",
   "metadata": {},
   "source": [
    "# Stacking \n",
    " \n",
    "* stacking is used to join 2 different arrays.\n",
    "* vertical stacking.\n",
    "* Horizontal stacking."
   ]
  },
  {
   "cell_type": "code",
   "execution_count": 51,
   "id": "1b821b44",
   "metadata": {
    "ExecuteTime": {
     "end_time": "2022-11-29T06:18:31.672560Z",
     "start_time": "2022-11-29T06:18:31.655562Z"
    }
   },
   "outputs": [],
   "source": [
    "a = np.array([1,2,3,4,5])\n",
    "b = np.array([4,5,6,8,7])"
   ]
  },
  {
   "cell_type": "code",
   "execution_count": 52,
   "id": "6762b1fd",
   "metadata": {
    "ExecuteTime": {
     "end_time": "2022-11-29T06:18:48.252470Z",
     "start_time": "2022-11-29T06:18:48.239886Z"
    }
   },
   "outputs": [
    {
     "data": {
      "text/plain": [
       "array([1, 2, 3, 4, 5, 4, 5, 6, 8, 7])"
      ]
     },
     "execution_count": 52,
     "metadata": {},
     "output_type": "execute_result"
    }
   ],
   "source": [
    "np.hstack([a,b])"
   ]
  },
  {
   "cell_type": "code",
   "execution_count": 53,
   "id": "5355df19",
   "metadata": {
    "ExecuteTime": {
     "end_time": "2022-11-29T06:19:02.016737Z",
     "start_time": "2022-11-29T06:19:02.002573Z"
    }
   },
   "outputs": [
    {
     "data": {
      "text/plain": [
       "array([[1, 2, 3, 4, 5],\n",
       "       [4, 5, 6, 8, 7]])"
      ]
     },
     "execution_count": 53,
     "metadata": {},
     "output_type": "execute_result"
    }
   ],
   "source": [
    "np.vstack([a,b])"
   ]
  },
  {
   "cell_type": "code",
   "execution_count": null,
   "id": "7cbf61d3",
   "metadata": {},
   "outputs": [],
   "source": []
  },
  {
   "cell_type": "code",
   "execution_count": null,
   "id": "a640334e",
   "metadata": {},
   "outputs": [],
   "source": []
  },
  {
   "cell_type": "code",
   "execution_count": null,
   "id": "a7b1d024",
   "metadata": {},
   "outputs": [],
   "source": []
  }
 ],
 "metadata": {
  "kernelspec": {
   "display_name": "Python 3 (ipykernel)",
   "language": "python",
   "name": "python3"
  },
  "language_info": {
   "codemirror_mode": {
    "name": "ipython",
    "version": 3
   },
   "file_extension": ".py",
   "mimetype": "text/x-python",
   "name": "python",
   "nbconvert_exporter": "python",
   "pygments_lexer": "ipython3",
   "version": "3.9.13"
  }
 },
 "nbformat": 4,
 "nbformat_minor": 5
}
